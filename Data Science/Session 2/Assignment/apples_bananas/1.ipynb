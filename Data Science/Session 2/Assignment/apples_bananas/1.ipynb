{
 "cells": [
  {
   "cell_type": "code",
   "execution_count": 2,
   "metadata": {},
   "outputs": [],
   "source": [
    "import numpy as np\n",
    "import pandas as pd\n",
    "import matplotlib.pyplot as plt"
   ]
  },
  {
   "cell_type": "code",
   "execution_count": 3,
   "metadata": {},
   "outputs": [],
   "source": [
    "# All font sizes are set to 15\n",
    "plt.rcParams['xtick.labelsize'] = 15\n",
    "plt.rcParams['ytick.labelsize'] = 15\n",
    "plt.rcParams['legend.fontsize'] = 15\n",
    "plt.rcParams['axes.labelsize'] = 15\n",
    "plt.rcParams['axes.titlesize'] = 15"
   ]
  },
  {
   "cell_type": "code",
   "execution_count": 4,
   "metadata": {},
   "outputs": [],
   "source": [
    "np.random.seed(121)\n",
    "\n",
    "N = 1000\n",
    "std = 0.6\n",
    "bananas = pd.DataFrame({\n",
    "    'length': np.random.normal(8, std, N),\n",
    "    'width': np.random.normal(4, std, N),\n",
    "    'class': np.zeros(N, dtype='int')}\n",
    ")\n",
    "\n",
    "apples = pd.DataFrame({\n",
    "    'length': np.random.normal(6, std, N),\n",
    "    'width': np.random.normal(6, std, N),\n",
    "    'class': np.ones(N, dtype='int')}\n",
    ")\n",
    "\n",
    "fruits = pd.concat([bananas, apples])"
   ]
  },
  {
   "cell_type": "code",
   "execution_count": null,
   "metadata": {},
   "outputs": [],
   "source": []
  }
 ],
 "metadata": {
  "kernelspec": {
   "display_name": "Python 3",
   "language": "python",
   "name": "python3"
  },
  "language_info": {
   "codemirror_mode": {
    "name": "ipython",
    "version": 3
   },
   "file_extension": ".py",
   "mimetype": "text/x-python",
   "name": "python",
   "nbconvert_exporter": "python",
   "pygments_lexer": "ipython3",
   "version": "3.11.5"
  }
 },
 "nbformat": 4,
 "nbformat_minor": 2
}
